{
 "cells": [
  {
   "cell_type": "markdown",
   "metadata": {},
   "source": [
    "# 단방향 암호화\n",
    "##### 복호화 할 수 없는 암호화 방식으로 입력된 문자열을 한번 암호화  하면 원래 문자열을 찾을 수 없다.\n",
    "\n",
    "\n"
   ]
  },
  {
   "cell_type": "markdown",
   "metadata": {},
   "source": [
    "## 해쉬 알고리즘\n",
    "##### 해쉬(hash) 알고리즘을 이용하여 고정된 길이의 암호화된 문자열을 바꿔버리는 것이 해시를 이용한 암호화 기법이다.\n"
   ]
  },
  {
   "cell_type": "markdown",
   "metadata": {},
   "source": [
    "## 특징\n",
    "\n",
    "##### 해쉬는 특정 입력에 대해 상항 같은 해쉬값을 리턴하는 특징이 있다\n",
    "(유저가 로그인 할 때마다 입력받은 비밀번호를 같은 암호화 알고리듬으로 암호화 한 후 데이터 베이스의 비밀번화화 비교\n",
    "하면 된다.)\n",
    "\n",
    "##### detail\n",
    "\n",
    "고정된 길이의 암호를 출력하는 특징 때문에 보안에 취약한 점이 있다\n",
    "이를 보안하기 위해 salt값을 넣는 방법과 해쉬 함수를 여러번 돌리는 방법이 있는데\n",
    "저는 제가 정한 임의의 문자열과 유저의 비밀번호를 각각 암호화 하여 합친 문자열을 데이터 베이스에 \n",
    "저장하는 salt값을 넣어 저장하는 방식을 선택하여 구현한 경험이 있습니다."
   ]
  },
  {
   "cell_type": "code",
   "execution_count": null,
   "metadata": {},
   "outputs": [],
   "source": []
  }
 ],
 "metadata": {
  "kernelspec": {
   "display_name": "Python 3",
   "language": "python",
   "name": "python3"
  },
  "language_info": {
   "codemirror_mode": {
    "name": "ipython",
    "version": 3
   },
   "file_extension": ".py",
   "mimetype": "text/x-python",
   "name": "python",
   "nbconvert_exporter": "python",
   "pygments_lexer": "ipython3",
   "version": "3.7.5"
  }
 },
 "nbformat": 4,
 "nbformat_minor": 2
}
